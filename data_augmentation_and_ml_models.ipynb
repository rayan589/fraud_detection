{
 "cells": [
  {
   "cell_type": "code",
   "id": "initial_id",
   "metadata": {
    "collapsed": true
   },
   "source": [
    "#Data Augmentation\n",
    "import pandas as pd\n",
    "import numpy as np\n",
    "import random\n",
    "\n",
    "\n",
    "file_path = r\"C:\\Users\\Rayan\\Desktop\\fraud_insurance_claims.csv\"\n",
    "df = pd.read_csv(file_path)\n",
    "\n",
    "\n",
    "numeric_columns = ['age', 'policy_deductable', 'policy_annual_premium',\n",
    "                   'capital-gains', 'capital-loss', 'total_claim_amount',\n",
    "                   'injury_claim', 'property_claim', 'vehicle_claim']\n",
    "categorical_columns = ['policy_state', 'insured_sex']\n",
    "\n",
    "\n",
    "fraud_ratio = 0.2\n",
    "total_samples = 1000000\n",
    "num_fraud_samples = int(total_samples * fraud_ratio)\n",
    "num_non_fraud_samples = total_samples - num_fraud_samples\n",
    "\n",
    "\n",
    "fraud_data = df[df['fraud_reported'] == 'Y']\n",
    "non_fraud_data = df[df['fraud_reported'] == 'N']\n",
    "\n",
    "\n",
    "fraud_bootstrap = fraud_data.sample(n=num_fraud_samples, replace=True, random_state=42)\n",
    "non_fraud_bootstrap = non_fraud_data.sample(n=num_non_fraud_samples, replace=True, random_state=42)\n",
    "\n",
    "\n",
    "bootstrapped_data = pd.concat([fraud_bootstrap, non_fraud_bootstrap]).sample(frac=1, random_state=42)\n",
    "\n",
    "\n",
    "for col in numeric_columns:\n",
    "    if col in bootstrapped_data.columns:\n",
    "        col_std = bootstrapped_data[col].std()\n",
    "        # Scale noise based on std deviation\n",
    "        noise_scale = 0.05 * col_std if col_std > 0 else 0.01\n",
    "        noise = np.random.normal(0, noise_scale, size=bootstrapped_data.shape[0])\n",
    "        bootstrapped_data[col] += noise\n",
    "\n",
    "\n",
    "for col in categorical_columns:\n",
    "    if col in bootstrapped_data.columns:\n",
    "        unique_vals = bootstrapped_data[col].unique()\n",
    "        bootstrapped_data[col] = bootstrapped_data[col].apply(\n",
    "            lambda x: random.choice(unique_vals) if np.random.rand() < 0.05 else x\n",
    "        )\n",
    "\n",
    "\n",
    "output_path = r\"C:\\Users\\Rayan\\Desktop\\Data_100k.csv\"\n",
    "bootstrapped_data.to_csv(output_path, index=False)\n"
   ],
   "outputs": [],
   "execution_count": 714
  },
  {
   "metadata": {
    "ExecuteTime": {
     "end_time": "2024-12-17T02:00:21.724984Z",
     "start_time": "2024-12-17T02:00:21.711726Z"
    }
   },
   "cell_type": "code",
   "source": [
    "import pandas as pd\n",
    "import numpy as np\n",
    "from sklearn.model_selection import train_test_split\n",
    "from sklearn.ensemble import RandomForestClassifier\n",
    "from sklearn.metrics import classification_report, confusion_matrix, roc_auc_score, accuracy_score\n",
    "import joblib"
   ],
   "id": "92862e266d6e2237",
   "outputs": [],
   "execution_count": 715
  },
  {
   "metadata": {
    "ExecuteTime": {
     "end_time": "2024-12-17T02:00:22.589369Z",
     "start_time": "2024-12-17T02:00:21.940744Z"
    }
   },
   "cell_type": "code",
   "source": "data = pd.read_csv(r\"C:\\Users\\Rayan\\Desktop\\Data_100k.csv\")",
   "id": "9451e17feb0b2059",
   "outputs": [],
   "execution_count": 716
  },
  {
   "metadata": {
    "ExecuteTime": {
     "end_time": "2024-12-17T02:00:22.635774Z",
     "start_time": "2024-12-17T02:00:22.605377Z"
    }
   },
   "cell_type": "code",
   "source": "data.head()",
   "id": "3c4d5011dcefcae4",
   "outputs": [
    {
     "data": {
      "text/plain": [
       "   months_as_customer        age  policy_number     policy_bind_date  \\\n",
       "0                 222  38.745043         698470  2008-06-17 00:00:00   \n",
       "1                 217  38.564156         394975  2002-06-02 00:00:00   \n",
       "2                 257  40.242527         414913  2012-07-17 00:00:00   \n",
       "3                 266  41.491167         281388  1998-07-16 00:00:00   \n",
       "4                 164  31.551670         357808  2011-01-31 00:00:00   \n",
       "\n",
       "  policy_state policy_csl  policy_deductable  policy_annual_premium  \\\n",
       "0           IN    100/300        1985.464460            1141.271428   \n",
       "1           IN    100/300        1008.582861            1537.989692   \n",
       "2           IN    250/500         534.403485            1377.188638   \n",
       "3           IL   500/1000         953.271923             763.425543   \n",
       "4           IN   500/1000         476.609983            1128.439861   \n",
       "\n",
       "   umbrella_limit  insured_zip  ... witnesses police_report_available  \\\n",
       "0               0       433853  ...         2                     YES   \n",
       "1               0       603993  ...         1                     YES   \n",
       "2               0       608228  ...         2                     YES   \n",
       "3               0       473389  ...         3                     YES   \n",
       "4               0       474758  ...         0                      NO   \n",
       "\n",
       "  total_claim_amount injury_claim property_claim  vehicle_claim  auto_make  \\\n",
       "0       61027.567940  6853.245400    6522.080467   46916.275714     Accura   \n",
       "1        4879.734326   360.027659     501.912871    3259.629023     Toyota   \n",
       "2       49920.564990  9651.778151    4499.504685   39511.616258       Audi   \n",
       "3       68846.787991  8181.942612    7675.263102   56640.013074       Jeep   \n",
       "4        4705.454649   411.795896     197.118916    2511.875637   Mercedes   \n",
       "\n",
       "       auto_model auto_year fraud_reported  \n",
       "0              TL      2001              N  \n",
       "1         Corolla      2000              N  \n",
       "2              A3      2002              Y  \n",
       "3  Grand Cherokee      2005              N  \n",
       "4            E400      2002              N  \n",
       "\n",
       "[5 rows x 39 columns]"
      ],
      "text/html": [
       "<div>\n",
       "<style scoped>\n",
       "    .dataframe tbody tr th:only-of-type {\n",
       "        vertical-align: middle;\n",
       "    }\n",
       "\n",
       "    .dataframe tbody tr th {\n",
       "        vertical-align: top;\n",
       "    }\n",
       "\n",
       "    .dataframe thead th {\n",
       "        text-align: right;\n",
       "    }\n",
       "</style>\n",
       "<table border=\"1\" class=\"dataframe\">\n",
       "  <thead>\n",
       "    <tr style=\"text-align: right;\">\n",
       "      <th></th>\n",
       "      <th>months_as_customer</th>\n",
       "      <th>age</th>\n",
       "      <th>policy_number</th>\n",
       "      <th>policy_bind_date</th>\n",
       "      <th>policy_state</th>\n",
       "      <th>policy_csl</th>\n",
       "      <th>policy_deductable</th>\n",
       "      <th>policy_annual_premium</th>\n",
       "      <th>umbrella_limit</th>\n",
       "      <th>insured_zip</th>\n",
       "      <th>...</th>\n",
       "      <th>witnesses</th>\n",
       "      <th>police_report_available</th>\n",
       "      <th>total_claim_amount</th>\n",
       "      <th>injury_claim</th>\n",
       "      <th>property_claim</th>\n",
       "      <th>vehicle_claim</th>\n",
       "      <th>auto_make</th>\n",
       "      <th>auto_model</th>\n",
       "      <th>auto_year</th>\n",
       "      <th>fraud_reported</th>\n",
       "    </tr>\n",
       "  </thead>\n",
       "  <tbody>\n",
       "    <tr>\n",
       "      <th>0</th>\n",
       "      <td>222</td>\n",
       "      <td>38.745043</td>\n",
       "      <td>698470</td>\n",
       "      <td>2008-06-17 00:00:00</td>\n",
       "      <td>IN</td>\n",
       "      <td>100/300</td>\n",
       "      <td>1985.464460</td>\n",
       "      <td>1141.271428</td>\n",
       "      <td>0</td>\n",
       "      <td>433853</td>\n",
       "      <td>...</td>\n",
       "      <td>2</td>\n",
       "      <td>YES</td>\n",
       "      <td>61027.567940</td>\n",
       "      <td>6853.245400</td>\n",
       "      <td>6522.080467</td>\n",
       "      <td>46916.275714</td>\n",
       "      <td>Accura</td>\n",
       "      <td>TL</td>\n",
       "      <td>2001</td>\n",
       "      <td>N</td>\n",
       "    </tr>\n",
       "    <tr>\n",
       "      <th>1</th>\n",
       "      <td>217</td>\n",
       "      <td>38.564156</td>\n",
       "      <td>394975</td>\n",
       "      <td>2002-06-02 00:00:00</td>\n",
       "      <td>IN</td>\n",
       "      <td>100/300</td>\n",
       "      <td>1008.582861</td>\n",
       "      <td>1537.989692</td>\n",
       "      <td>0</td>\n",
       "      <td>603993</td>\n",
       "      <td>...</td>\n",
       "      <td>1</td>\n",
       "      <td>YES</td>\n",
       "      <td>4879.734326</td>\n",
       "      <td>360.027659</td>\n",
       "      <td>501.912871</td>\n",
       "      <td>3259.629023</td>\n",
       "      <td>Toyota</td>\n",
       "      <td>Corolla</td>\n",
       "      <td>2000</td>\n",
       "      <td>N</td>\n",
       "    </tr>\n",
       "    <tr>\n",
       "      <th>2</th>\n",
       "      <td>257</td>\n",
       "      <td>40.242527</td>\n",
       "      <td>414913</td>\n",
       "      <td>2012-07-17 00:00:00</td>\n",
       "      <td>IN</td>\n",
       "      <td>250/500</td>\n",
       "      <td>534.403485</td>\n",
       "      <td>1377.188638</td>\n",
       "      <td>0</td>\n",
       "      <td>608228</td>\n",
       "      <td>...</td>\n",
       "      <td>2</td>\n",
       "      <td>YES</td>\n",
       "      <td>49920.564990</td>\n",
       "      <td>9651.778151</td>\n",
       "      <td>4499.504685</td>\n",
       "      <td>39511.616258</td>\n",
       "      <td>Audi</td>\n",
       "      <td>A3</td>\n",
       "      <td>2002</td>\n",
       "      <td>Y</td>\n",
       "    </tr>\n",
       "    <tr>\n",
       "      <th>3</th>\n",
       "      <td>266</td>\n",
       "      <td>41.491167</td>\n",
       "      <td>281388</td>\n",
       "      <td>1998-07-16 00:00:00</td>\n",
       "      <td>IL</td>\n",
       "      <td>500/1000</td>\n",
       "      <td>953.271923</td>\n",
       "      <td>763.425543</td>\n",
       "      <td>0</td>\n",
       "      <td>473389</td>\n",
       "      <td>...</td>\n",
       "      <td>3</td>\n",
       "      <td>YES</td>\n",
       "      <td>68846.787991</td>\n",
       "      <td>8181.942612</td>\n",
       "      <td>7675.263102</td>\n",
       "      <td>56640.013074</td>\n",
       "      <td>Jeep</td>\n",
       "      <td>Grand Cherokee</td>\n",
       "      <td>2005</td>\n",
       "      <td>N</td>\n",
       "    </tr>\n",
       "    <tr>\n",
       "      <th>4</th>\n",
       "      <td>164</td>\n",
       "      <td>31.551670</td>\n",
       "      <td>357808</td>\n",
       "      <td>2011-01-31 00:00:00</td>\n",
       "      <td>IN</td>\n",
       "      <td>500/1000</td>\n",
       "      <td>476.609983</td>\n",
       "      <td>1128.439861</td>\n",
       "      <td>0</td>\n",
       "      <td>474758</td>\n",
       "      <td>...</td>\n",
       "      <td>0</td>\n",
       "      <td>NO</td>\n",
       "      <td>4705.454649</td>\n",
       "      <td>411.795896</td>\n",
       "      <td>197.118916</td>\n",
       "      <td>2511.875637</td>\n",
       "      <td>Mercedes</td>\n",
       "      <td>E400</td>\n",
       "      <td>2002</td>\n",
       "      <td>N</td>\n",
       "    </tr>\n",
       "  </tbody>\n",
       "</table>\n",
       "<p>5 rows × 39 columns</p>\n",
       "</div>"
      ]
     },
     "execution_count": 717,
     "metadata": {},
     "output_type": "execute_result"
    }
   ],
   "execution_count": 717
  },
  {
   "metadata": {
    "ExecuteTime": {
     "end_time": "2024-12-17T02:00:22.915516Z",
     "start_time": "2024-12-17T02:00:22.790720Z"
    }
   },
   "cell_type": "code",
   "source": [
    "# Handle missing values or invalid placeholders\n",
    "data.replace('?', np.nan, inplace=True)"
   ],
   "id": "e25e756984ef9f2d",
   "outputs": [],
   "execution_count": 718
  },
  {
   "metadata": {
    "ExecuteTime": {
     "end_time": "2024-12-17T02:00:23.034755Z",
     "start_time": "2024-12-17T02:00:22.944873Z"
    }
   },
   "cell_type": "code",
   "source": [
    "# Drop columns with too many missing values (if any)\n",
    "data.dropna(axis=1, thresh=len(data) * 0.9, inplace=True)"
   ],
   "id": "df673748f68af19a",
   "outputs": [],
   "execution_count": 719
  },
  {
   "metadata": {
    "ExecuteTime": {
     "end_time": "2024-12-17T02:00:23.254273Z",
     "start_time": "2024-12-17T02:00:23.069047Z"
    }
   },
   "cell_type": "code",
   "source": [
    "# Fill missing values with the mean for numeric columns and mode for categorical columns\n",
    "for col in data.select_dtypes(include=['float64', 'int64']).columns:\n",
    "    data[col] = data[col].fillna(data[col].mean())\n",
    "for col in data.select_dtypes(include=['object']).columns:\n",
    "    data[col] = data[col].fillna(data[col].mode()[0])"
   ],
   "id": "477fa4342f371282",
   "outputs": [],
   "execution_count": 720
  },
  {
   "metadata": {
    "ExecuteTime": {
     "end_time": "2024-12-17T02:00:23.397861Z",
     "start_time": "2024-12-17T02:00:23.332637Z"
    }
   },
   "cell_type": "code",
   "source": [
    "# Convert date columns to datetime\n",
    "data['policy_bind_date'] = pd.to_datetime(data['policy_bind_date'], errors='coerce')\n",
    "data['incident_date'] = pd.to_datetime(data['incident_date'], errors='coerce')"
   ],
   "id": "bf0e7ea1aa8f42a2",
   "outputs": [],
   "execution_count": 721
  },
  {
   "metadata": {
    "ExecuteTime": {
     "end_time": "2024-12-17T02:00:23.481452Z",
     "start_time": "2024-12-17T02:00:23.463383Z"
    }
   },
   "cell_type": "code",
   "source": [
    "# Feature engineering\n",
    "data['policy_to_incident_days'] = (data['incident_date'] - data['policy_bind_date']).dt.days\n",
    "data['total_claim_ratio'] = (data['injury_claim'] + data['property_claim'] + data['vehicle_claim']) / data['total_claim_amount']"
   ],
   "id": "17a58e4719af5109",
   "outputs": [],
   "execution_count": 722
  },
  {
   "metadata": {
    "ExecuteTime": {
     "end_time": "2024-12-17T02:00:23.621469Z",
     "start_time": "2024-12-17T02:00:23.608475Z"
    }
   },
   "cell_type": "code",
   "source": "data.head()",
   "id": "dd5bdc5c342d3f87",
   "outputs": [
    {
     "data": {
      "text/plain": [
       "   months_as_customer        age  policy_number policy_bind_date policy_state  \\\n",
       "0                 222  38.745043         698470       2008-06-17           IN   \n",
       "1                 217  38.564156         394975       2002-06-02           IN   \n",
       "2                 257  40.242527         414913       2012-07-17           IN   \n",
       "3                 266  41.491167         281388       1998-07-16           IL   \n",
       "4                 164  31.551670         357808       2011-01-31           IN   \n",
       "\n",
       "  policy_csl  policy_deductable  policy_annual_premium  umbrella_limit  \\\n",
       "0    100/300        1985.464460            1141.271428               0   \n",
       "1    100/300        1008.582861            1537.989692               0   \n",
       "2    250/500         534.403485            1377.188638               0   \n",
       "3   500/1000         953.271923             763.425543               0   \n",
       "4   500/1000         476.609983            1128.439861               0   \n",
       "\n",
       "   insured_zip  ... total_claim_amount injury_claim property_claim  \\\n",
       "0       433853  ...       61027.567940  6853.245400    6522.080467   \n",
       "1       603993  ...        4879.734326   360.027659     501.912871   \n",
       "2       608228  ...       49920.564990  9651.778151    4499.504685   \n",
       "3       473389  ...       68846.787991  8181.942612    7675.263102   \n",
       "4       474758  ...        4705.454649   411.795896     197.118916   \n",
       "\n",
       "  vehicle_claim auto_make      auto_model  auto_year fraud_reported  \\\n",
       "0  46916.275714    Accura              TL       2001              N   \n",
       "1   3259.629023    Toyota         Corolla       2000              N   \n",
       "2  39511.616258      Audi              A3       2002              Y   \n",
       "3  56640.013074      Jeep  Grand Cherokee       2005              N   \n",
       "4   2511.875637  Mercedes            E400       2002              N   \n",
       "\n",
       "  policy_to_incident_days total_claim_ratio  \n",
       "0                    2441          0.987940  \n",
       "1                    4648          0.844630  \n",
       "2                     929          1.074966  \n",
       "3                    6047          1.053023  \n",
       "4                    1456          0.663228  \n",
       "\n",
       "[5 rows x 38 columns]"
      ],
      "text/html": [
       "<div>\n",
       "<style scoped>\n",
       "    .dataframe tbody tr th:only-of-type {\n",
       "        vertical-align: middle;\n",
       "    }\n",
       "\n",
       "    .dataframe tbody tr th {\n",
       "        vertical-align: top;\n",
       "    }\n",
       "\n",
       "    .dataframe thead th {\n",
       "        text-align: right;\n",
       "    }\n",
       "</style>\n",
       "<table border=\"1\" class=\"dataframe\">\n",
       "  <thead>\n",
       "    <tr style=\"text-align: right;\">\n",
       "      <th></th>\n",
       "      <th>months_as_customer</th>\n",
       "      <th>age</th>\n",
       "      <th>policy_number</th>\n",
       "      <th>policy_bind_date</th>\n",
       "      <th>policy_state</th>\n",
       "      <th>policy_csl</th>\n",
       "      <th>policy_deductable</th>\n",
       "      <th>policy_annual_premium</th>\n",
       "      <th>umbrella_limit</th>\n",
       "      <th>insured_zip</th>\n",
       "      <th>...</th>\n",
       "      <th>total_claim_amount</th>\n",
       "      <th>injury_claim</th>\n",
       "      <th>property_claim</th>\n",
       "      <th>vehicle_claim</th>\n",
       "      <th>auto_make</th>\n",
       "      <th>auto_model</th>\n",
       "      <th>auto_year</th>\n",
       "      <th>fraud_reported</th>\n",
       "      <th>policy_to_incident_days</th>\n",
       "      <th>total_claim_ratio</th>\n",
       "    </tr>\n",
       "  </thead>\n",
       "  <tbody>\n",
       "    <tr>\n",
       "      <th>0</th>\n",
       "      <td>222</td>\n",
       "      <td>38.745043</td>\n",
       "      <td>698470</td>\n",
       "      <td>2008-06-17</td>\n",
       "      <td>IN</td>\n",
       "      <td>100/300</td>\n",
       "      <td>1985.464460</td>\n",
       "      <td>1141.271428</td>\n",
       "      <td>0</td>\n",
       "      <td>433853</td>\n",
       "      <td>...</td>\n",
       "      <td>61027.567940</td>\n",
       "      <td>6853.245400</td>\n",
       "      <td>6522.080467</td>\n",
       "      <td>46916.275714</td>\n",
       "      <td>Accura</td>\n",
       "      <td>TL</td>\n",
       "      <td>2001</td>\n",
       "      <td>N</td>\n",
       "      <td>2441</td>\n",
       "      <td>0.987940</td>\n",
       "    </tr>\n",
       "    <tr>\n",
       "      <th>1</th>\n",
       "      <td>217</td>\n",
       "      <td>38.564156</td>\n",
       "      <td>394975</td>\n",
       "      <td>2002-06-02</td>\n",
       "      <td>IN</td>\n",
       "      <td>100/300</td>\n",
       "      <td>1008.582861</td>\n",
       "      <td>1537.989692</td>\n",
       "      <td>0</td>\n",
       "      <td>603993</td>\n",
       "      <td>...</td>\n",
       "      <td>4879.734326</td>\n",
       "      <td>360.027659</td>\n",
       "      <td>501.912871</td>\n",
       "      <td>3259.629023</td>\n",
       "      <td>Toyota</td>\n",
       "      <td>Corolla</td>\n",
       "      <td>2000</td>\n",
       "      <td>N</td>\n",
       "      <td>4648</td>\n",
       "      <td>0.844630</td>\n",
       "    </tr>\n",
       "    <tr>\n",
       "      <th>2</th>\n",
       "      <td>257</td>\n",
       "      <td>40.242527</td>\n",
       "      <td>414913</td>\n",
       "      <td>2012-07-17</td>\n",
       "      <td>IN</td>\n",
       "      <td>250/500</td>\n",
       "      <td>534.403485</td>\n",
       "      <td>1377.188638</td>\n",
       "      <td>0</td>\n",
       "      <td>608228</td>\n",
       "      <td>...</td>\n",
       "      <td>49920.564990</td>\n",
       "      <td>9651.778151</td>\n",
       "      <td>4499.504685</td>\n",
       "      <td>39511.616258</td>\n",
       "      <td>Audi</td>\n",
       "      <td>A3</td>\n",
       "      <td>2002</td>\n",
       "      <td>Y</td>\n",
       "      <td>929</td>\n",
       "      <td>1.074966</td>\n",
       "    </tr>\n",
       "    <tr>\n",
       "      <th>3</th>\n",
       "      <td>266</td>\n",
       "      <td>41.491167</td>\n",
       "      <td>281388</td>\n",
       "      <td>1998-07-16</td>\n",
       "      <td>IL</td>\n",
       "      <td>500/1000</td>\n",
       "      <td>953.271923</td>\n",
       "      <td>763.425543</td>\n",
       "      <td>0</td>\n",
       "      <td>473389</td>\n",
       "      <td>...</td>\n",
       "      <td>68846.787991</td>\n",
       "      <td>8181.942612</td>\n",
       "      <td>7675.263102</td>\n",
       "      <td>56640.013074</td>\n",
       "      <td>Jeep</td>\n",
       "      <td>Grand Cherokee</td>\n",
       "      <td>2005</td>\n",
       "      <td>N</td>\n",
       "      <td>6047</td>\n",
       "      <td>1.053023</td>\n",
       "    </tr>\n",
       "    <tr>\n",
       "      <th>4</th>\n",
       "      <td>164</td>\n",
       "      <td>31.551670</td>\n",
       "      <td>357808</td>\n",
       "      <td>2011-01-31</td>\n",
       "      <td>IN</td>\n",
       "      <td>500/1000</td>\n",
       "      <td>476.609983</td>\n",
       "      <td>1128.439861</td>\n",
       "      <td>0</td>\n",
       "      <td>474758</td>\n",
       "      <td>...</td>\n",
       "      <td>4705.454649</td>\n",
       "      <td>411.795896</td>\n",
       "      <td>197.118916</td>\n",
       "      <td>2511.875637</td>\n",
       "      <td>Mercedes</td>\n",
       "      <td>E400</td>\n",
       "      <td>2002</td>\n",
       "      <td>N</td>\n",
       "      <td>1456</td>\n",
       "      <td>0.663228</td>\n",
       "    </tr>\n",
       "  </tbody>\n",
       "</table>\n",
       "<p>5 rows × 38 columns</p>\n",
       "</div>"
      ]
     },
     "execution_count": 723,
     "metadata": {},
     "output_type": "execute_result"
    }
   ],
   "execution_count": 723
  },
  {
   "metadata": {
    "ExecuteTime": {
     "end_time": "2024-12-17T02:00:23.661220Z",
     "start_time": "2024-12-17T02:00:23.656978Z"
    }
   },
   "cell_type": "code",
   "source": [
    "# Encoding categorical variables\n",
    "categorical_columns = ['policy_state', 'policy_csl', 'insured_sex', 'insured_education_level',\n",
    "                       'insured_occupation', 'insured_hobbies', 'insured_relationship',\n",
    "                       'incident_type', 'collision_type', 'incident_severity', 'authorities_contacted',\n",
    "                       'incident_state', 'incident_city', 'auto_make', 'auto_model']"
   ],
   "id": "86a19aee7785a90a",
   "outputs": [],
   "execution_count": 724
  },
  {
   "metadata": {
    "ExecuteTime": {
     "end_time": "2024-12-17T02:00:23.684720Z",
     "start_time": "2024-12-17T02:00:23.670225Z"
    }
   },
   "cell_type": "code",
   "source": [
    "# Keep only columns that exist in the dataset\n",
    "categorical_columns = [col for col in categorical_columns if col in data.columns]"
   ],
   "id": "53188b046d13d9dd",
   "outputs": [],
   "execution_count": 725
  },
  {
   "metadata": {
    "ExecuteTime": {
     "end_time": "2024-12-17T02:00:23.879869Z",
     "start_time": "2024-12-17T02:00:23.730417Z"
    }
   },
   "cell_type": "code",
   "source": [
    "# Apply one-hot encoding\n",
    "data = pd.get_dummies(data, columns=categorical_columns, drop_first=True)"
   ],
   "id": "95b04ec871de13da",
   "outputs": [],
   "execution_count": 726
  },
  {
   "metadata": {
    "ExecuteTime": {
     "end_time": "2024-12-17T02:00:23.901491Z",
     "start_time": "2024-12-17T02:00:23.889375Z"
    }
   },
   "cell_type": "code",
   "source": "data.head()",
   "id": "2ff22b0c5ea56215",
   "outputs": [
    {
     "data": {
      "text/plain": [
       "   months_as_customer        age  policy_number policy_bind_date  \\\n",
       "0                 222  38.745043         698470       2008-06-17   \n",
       "1                 217  38.564156         394975       2002-06-02   \n",
       "2                 257  40.242527         414913       2012-07-17   \n",
       "3                 266  41.491167         281388       1998-07-16   \n",
       "4                 164  31.551670         357808       2011-01-31   \n",
       "\n",
       "   policy_deductable  policy_annual_premium  umbrella_limit  insured_zip  \\\n",
       "0        1985.464460            1141.271428               0       433853   \n",
       "1        1008.582861            1537.989692               0       603993   \n",
       "2         534.403485            1377.188638               0       608228   \n",
       "3         953.271923             763.425543               0       473389   \n",
       "4         476.609983            1128.439861               0       474758   \n",
       "\n",
       "   capital-gains  capital-loss  ... auto_model_Pathfinder auto_model_RAM  \\\n",
       "0   -1373.989084 -63848.876787  ...                 False          False   \n",
       "1    -959.042125   1066.152726  ...                 False          False   \n",
       "2     481.329699   -990.032295  ...                 False          False   \n",
       "3   13823.858918 -48086.658441  ...                 False          False   \n",
       "4   44203.686545 -55884.031256  ...                 False          False   \n",
       "\n",
       "   auto_model_RSX  auto_model_Silverado  auto_model_TL  auto_model_Tahoe  \\\n",
       "0           False                 False           True             False   \n",
       "1           False                 False          False             False   \n",
       "2           False                 False          False             False   \n",
       "3           False                 False          False             False   \n",
       "4           False                 False          False             False   \n",
       "\n",
       "   auto_model_Ultima  auto_model_Wrangler  auto_model_X5  auto_model_X6  \n",
       "0              False                False          False          False  \n",
       "1              False                False          False          False  \n",
       "2              False                False          False          False  \n",
       "3              False                False          False          False  \n",
       "4              False                False          False          False  \n",
       "\n",
       "[5 rows x 144 columns]"
      ],
      "text/html": [
       "<div>\n",
       "<style scoped>\n",
       "    .dataframe tbody tr th:only-of-type {\n",
       "        vertical-align: middle;\n",
       "    }\n",
       "\n",
       "    .dataframe tbody tr th {\n",
       "        vertical-align: top;\n",
       "    }\n",
       "\n",
       "    .dataframe thead th {\n",
       "        text-align: right;\n",
       "    }\n",
       "</style>\n",
       "<table border=\"1\" class=\"dataframe\">\n",
       "  <thead>\n",
       "    <tr style=\"text-align: right;\">\n",
       "      <th></th>\n",
       "      <th>months_as_customer</th>\n",
       "      <th>age</th>\n",
       "      <th>policy_number</th>\n",
       "      <th>policy_bind_date</th>\n",
       "      <th>policy_deductable</th>\n",
       "      <th>policy_annual_premium</th>\n",
       "      <th>umbrella_limit</th>\n",
       "      <th>insured_zip</th>\n",
       "      <th>capital-gains</th>\n",
       "      <th>capital-loss</th>\n",
       "      <th>...</th>\n",
       "      <th>auto_model_Pathfinder</th>\n",
       "      <th>auto_model_RAM</th>\n",
       "      <th>auto_model_RSX</th>\n",
       "      <th>auto_model_Silverado</th>\n",
       "      <th>auto_model_TL</th>\n",
       "      <th>auto_model_Tahoe</th>\n",
       "      <th>auto_model_Ultima</th>\n",
       "      <th>auto_model_Wrangler</th>\n",
       "      <th>auto_model_X5</th>\n",
       "      <th>auto_model_X6</th>\n",
       "    </tr>\n",
       "  </thead>\n",
       "  <tbody>\n",
       "    <tr>\n",
       "      <th>0</th>\n",
       "      <td>222</td>\n",
       "      <td>38.745043</td>\n",
       "      <td>698470</td>\n",
       "      <td>2008-06-17</td>\n",
       "      <td>1985.464460</td>\n",
       "      <td>1141.271428</td>\n",
       "      <td>0</td>\n",
       "      <td>433853</td>\n",
       "      <td>-1373.989084</td>\n",
       "      <td>-63848.876787</td>\n",
       "      <td>...</td>\n",
       "      <td>False</td>\n",
       "      <td>False</td>\n",
       "      <td>False</td>\n",
       "      <td>False</td>\n",
       "      <td>True</td>\n",
       "      <td>False</td>\n",
       "      <td>False</td>\n",
       "      <td>False</td>\n",
       "      <td>False</td>\n",
       "      <td>False</td>\n",
       "    </tr>\n",
       "    <tr>\n",
       "      <th>1</th>\n",
       "      <td>217</td>\n",
       "      <td>38.564156</td>\n",
       "      <td>394975</td>\n",
       "      <td>2002-06-02</td>\n",
       "      <td>1008.582861</td>\n",
       "      <td>1537.989692</td>\n",
       "      <td>0</td>\n",
       "      <td>603993</td>\n",
       "      <td>-959.042125</td>\n",
       "      <td>1066.152726</td>\n",
       "      <td>...</td>\n",
       "      <td>False</td>\n",
       "      <td>False</td>\n",
       "      <td>False</td>\n",
       "      <td>False</td>\n",
       "      <td>False</td>\n",
       "      <td>False</td>\n",
       "      <td>False</td>\n",
       "      <td>False</td>\n",
       "      <td>False</td>\n",
       "      <td>False</td>\n",
       "    </tr>\n",
       "    <tr>\n",
       "      <th>2</th>\n",
       "      <td>257</td>\n",
       "      <td>40.242527</td>\n",
       "      <td>414913</td>\n",
       "      <td>2012-07-17</td>\n",
       "      <td>534.403485</td>\n",
       "      <td>1377.188638</td>\n",
       "      <td>0</td>\n",
       "      <td>608228</td>\n",
       "      <td>481.329699</td>\n",
       "      <td>-990.032295</td>\n",
       "      <td>...</td>\n",
       "      <td>False</td>\n",
       "      <td>False</td>\n",
       "      <td>False</td>\n",
       "      <td>False</td>\n",
       "      <td>False</td>\n",
       "      <td>False</td>\n",
       "      <td>False</td>\n",
       "      <td>False</td>\n",
       "      <td>False</td>\n",
       "      <td>False</td>\n",
       "    </tr>\n",
       "    <tr>\n",
       "      <th>3</th>\n",
       "      <td>266</td>\n",
       "      <td>41.491167</td>\n",
       "      <td>281388</td>\n",
       "      <td>1998-07-16</td>\n",
       "      <td>953.271923</td>\n",
       "      <td>763.425543</td>\n",
       "      <td>0</td>\n",
       "      <td>473389</td>\n",
       "      <td>13823.858918</td>\n",
       "      <td>-48086.658441</td>\n",
       "      <td>...</td>\n",
       "      <td>False</td>\n",
       "      <td>False</td>\n",
       "      <td>False</td>\n",
       "      <td>False</td>\n",
       "      <td>False</td>\n",
       "      <td>False</td>\n",
       "      <td>False</td>\n",
       "      <td>False</td>\n",
       "      <td>False</td>\n",
       "      <td>False</td>\n",
       "    </tr>\n",
       "    <tr>\n",
       "      <th>4</th>\n",
       "      <td>164</td>\n",
       "      <td>31.551670</td>\n",
       "      <td>357808</td>\n",
       "      <td>2011-01-31</td>\n",
       "      <td>476.609983</td>\n",
       "      <td>1128.439861</td>\n",
       "      <td>0</td>\n",
       "      <td>474758</td>\n",
       "      <td>44203.686545</td>\n",
       "      <td>-55884.031256</td>\n",
       "      <td>...</td>\n",
       "      <td>False</td>\n",
       "      <td>False</td>\n",
       "      <td>False</td>\n",
       "      <td>False</td>\n",
       "      <td>False</td>\n",
       "      <td>False</td>\n",
       "      <td>False</td>\n",
       "      <td>False</td>\n",
       "      <td>False</td>\n",
       "      <td>False</td>\n",
       "    </tr>\n",
       "  </tbody>\n",
       "</table>\n",
       "<p>5 rows × 144 columns</p>\n",
       "</div>"
      ]
     },
     "execution_count": 727,
     "metadata": {},
     "output_type": "execute_result"
    }
   ],
   "execution_count": 727
  },
  {
   "metadata": {
    "ExecuteTime": {
     "end_time": "2024-12-17T02:00:24.021832Z",
     "start_time": "2024-12-17T02:00:24.016868Z"
    }
   },
   "cell_type": "code",
   "source": "data.shape[0]",
   "id": "eb22298723b6bb13",
   "outputs": [
    {
     "data": {
      "text/plain": [
       "100000"
      ]
     },
     "execution_count": 728,
     "metadata": {},
     "output_type": "execute_result"
    }
   ],
   "execution_count": 728
  },
  {
   "metadata": {
    "ExecuteTime": {
     "end_time": "2024-12-17T02:00:24.094638Z",
     "start_time": "2024-12-17T02:00:24.092707Z"
    }
   },
   "cell_type": "code",
   "source": "",
   "id": "1a755e9e13aee38",
   "outputs": [],
   "execution_count": null
  },
  {
   "metadata": {
    "ExecuteTime": {
     "end_time": "2024-12-17T02:00:24.121712Z",
     "start_time": "2024-12-17T02:00:24.097641Z"
    }
   },
   "cell_type": "code",
   "source": [
    "# Label encoding for fraud\n",
    "if 'fraud_reported' in data.columns:\n",
    "    data['fraud_reported'] = data['fraud_reported'].apply(lambda x: 1 if x == 'Y' else 0)"
   ],
   "id": "c62c1638c5f351d8",
   "outputs": [],
   "execution_count": 729
  },
  {
   "metadata": {
    "ExecuteTime": {
     "end_time": "2024-12-17T02:00:24.458134Z",
     "start_time": "2024-12-17T02:00:24.376433Z"
    }
   },
   "cell_type": "code",
   "source": [
    "# Drop unnecessary columns and split dataset\n",
    "X = data.drop(['fraud_reported', 'policy_bind_date', 'incident_date', 'incident_location', 'umbrella_limit'], axis=1, errors='ignore')\n",
    "y = data['fraud_reported']\n",
    "X_train, X_test, y_train, y_test = train_test_split(X, y, test_size=0.3, random_state=42)"
   ],
   "id": "41ce58ae5f1d6451",
   "outputs": [],
   "execution_count": 730
  },
  {
   "metadata": {
    "ExecuteTime": {
     "end_time": "2024-12-17T02:00:24.541580Z",
     "start_time": "2024-12-17T02:00:24.532699Z"
    }
   },
   "cell_type": "code",
   "source": "y.value_counts()",
   "id": "6ea56413d8eb2970",
   "outputs": [
    {
     "data": {
      "text/plain": [
       "fraud_reported\n",
       "0    80000\n",
       "1    20000\n",
       "Name: count, dtype: int64"
      ]
     },
     "execution_count": 731,
     "metadata": {},
     "output_type": "execute_result"
    }
   ],
   "execution_count": 731
  },
  {
   "metadata": {
    "ExecuteTime": {
     "end_time": "2024-12-17T02:00:24.635817Z",
     "start_time": "2024-12-17T02:00:24.619993Z"
    }
   },
   "cell_type": "code",
   "source": "data.head()",
   "id": "4bc3d7d799afe707",
   "outputs": [
    {
     "data": {
      "text/plain": [
       "   months_as_customer        age  policy_number policy_bind_date  \\\n",
       "0                 222  38.745043         698470       2008-06-17   \n",
       "1                 217  38.564156         394975       2002-06-02   \n",
       "2                 257  40.242527         414913       2012-07-17   \n",
       "3                 266  41.491167         281388       1998-07-16   \n",
       "4                 164  31.551670         357808       2011-01-31   \n",
       "\n",
       "   policy_deductable  policy_annual_premium  umbrella_limit  insured_zip  \\\n",
       "0        1985.464460            1141.271428               0       433853   \n",
       "1        1008.582861            1537.989692               0       603993   \n",
       "2         534.403485            1377.188638               0       608228   \n",
       "3         953.271923             763.425543               0       473389   \n",
       "4         476.609983            1128.439861               0       474758   \n",
       "\n",
       "   capital-gains  capital-loss  ... auto_model_Pathfinder auto_model_RAM  \\\n",
       "0   -1373.989084 -63848.876787  ...                 False          False   \n",
       "1    -959.042125   1066.152726  ...                 False          False   \n",
       "2     481.329699   -990.032295  ...                 False          False   \n",
       "3   13823.858918 -48086.658441  ...                 False          False   \n",
       "4   44203.686545 -55884.031256  ...                 False          False   \n",
       "\n",
       "   auto_model_RSX  auto_model_Silverado  auto_model_TL  auto_model_Tahoe  \\\n",
       "0           False                 False           True             False   \n",
       "1           False                 False          False             False   \n",
       "2           False                 False          False             False   \n",
       "3           False                 False          False             False   \n",
       "4           False                 False          False             False   \n",
       "\n",
       "   auto_model_Ultima  auto_model_Wrangler  auto_model_X5  auto_model_X6  \n",
       "0              False                False          False          False  \n",
       "1              False                False          False          False  \n",
       "2              False                False          False          False  \n",
       "3              False                False          False          False  \n",
       "4              False                False          False          False  \n",
       "\n",
       "[5 rows x 144 columns]"
      ],
      "text/html": [
       "<div>\n",
       "<style scoped>\n",
       "    .dataframe tbody tr th:only-of-type {\n",
       "        vertical-align: middle;\n",
       "    }\n",
       "\n",
       "    .dataframe tbody tr th {\n",
       "        vertical-align: top;\n",
       "    }\n",
       "\n",
       "    .dataframe thead th {\n",
       "        text-align: right;\n",
       "    }\n",
       "</style>\n",
       "<table border=\"1\" class=\"dataframe\">\n",
       "  <thead>\n",
       "    <tr style=\"text-align: right;\">\n",
       "      <th></th>\n",
       "      <th>months_as_customer</th>\n",
       "      <th>age</th>\n",
       "      <th>policy_number</th>\n",
       "      <th>policy_bind_date</th>\n",
       "      <th>policy_deductable</th>\n",
       "      <th>policy_annual_premium</th>\n",
       "      <th>umbrella_limit</th>\n",
       "      <th>insured_zip</th>\n",
       "      <th>capital-gains</th>\n",
       "      <th>capital-loss</th>\n",
       "      <th>...</th>\n",
       "      <th>auto_model_Pathfinder</th>\n",
       "      <th>auto_model_RAM</th>\n",
       "      <th>auto_model_RSX</th>\n",
       "      <th>auto_model_Silverado</th>\n",
       "      <th>auto_model_TL</th>\n",
       "      <th>auto_model_Tahoe</th>\n",
       "      <th>auto_model_Ultima</th>\n",
       "      <th>auto_model_Wrangler</th>\n",
       "      <th>auto_model_X5</th>\n",
       "      <th>auto_model_X6</th>\n",
       "    </tr>\n",
       "  </thead>\n",
       "  <tbody>\n",
       "    <tr>\n",
       "      <th>0</th>\n",
       "      <td>222</td>\n",
       "      <td>38.745043</td>\n",
       "      <td>698470</td>\n",
       "      <td>2008-06-17</td>\n",
       "      <td>1985.464460</td>\n",
       "      <td>1141.271428</td>\n",
       "      <td>0</td>\n",
       "      <td>433853</td>\n",
       "      <td>-1373.989084</td>\n",
       "      <td>-63848.876787</td>\n",
       "      <td>...</td>\n",
       "      <td>False</td>\n",
       "      <td>False</td>\n",
       "      <td>False</td>\n",
       "      <td>False</td>\n",
       "      <td>True</td>\n",
       "      <td>False</td>\n",
       "      <td>False</td>\n",
       "      <td>False</td>\n",
       "      <td>False</td>\n",
       "      <td>False</td>\n",
       "    </tr>\n",
       "    <tr>\n",
       "      <th>1</th>\n",
       "      <td>217</td>\n",
       "      <td>38.564156</td>\n",
       "      <td>394975</td>\n",
       "      <td>2002-06-02</td>\n",
       "      <td>1008.582861</td>\n",
       "      <td>1537.989692</td>\n",
       "      <td>0</td>\n",
       "      <td>603993</td>\n",
       "      <td>-959.042125</td>\n",
       "      <td>1066.152726</td>\n",
       "      <td>...</td>\n",
       "      <td>False</td>\n",
       "      <td>False</td>\n",
       "      <td>False</td>\n",
       "      <td>False</td>\n",
       "      <td>False</td>\n",
       "      <td>False</td>\n",
       "      <td>False</td>\n",
       "      <td>False</td>\n",
       "      <td>False</td>\n",
       "      <td>False</td>\n",
       "    </tr>\n",
       "    <tr>\n",
       "      <th>2</th>\n",
       "      <td>257</td>\n",
       "      <td>40.242527</td>\n",
       "      <td>414913</td>\n",
       "      <td>2012-07-17</td>\n",
       "      <td>534.403485</td>\n",
       "      <td>1377.188638</td>\n",
       "      <td>0</td>\n",
       "      <td>608228</td>\n",
       "      <td>481.329699</td>\n",
       "      <td>-990.032295</td>\n",
       "      <td>...</td>\n",
       "      <td>False</td>\n",
       "      <td>False</td>\n",
       "      <td>False</td>\n",
       "      <td>False</td>\n",
       "      <td>False</td>\n",
       "      <td>False</td>\n",
       "      <td>False</td>\n",
       "      <td>False</td>\n",
       "      <td>False</td>\n",
       "      <td>False</td>\n",
       "    </tr>\n",
       "    <tr>\n",
       "      <th>3</th>\n",
       "      <td>266</td>\n",
       "      <td>41.491167</td>\n",
       "      <td>281388</td>\n",
       "      <td>1998-07-16</td>\n",
       "      <td>953.271923</td>\n",
       "      <td>763.425543</td>\n",
       "      <td>0</td>\n",
       "      <td>473389</td>\n",
       "      <td>13823.858918</td>\n",
       "      <td>-48086.658441</td>\n",
       "      <td>...</td>\n",
       "      <td>False</td>\n",
       "      <td>False</td>\n",
       "      <td>False</td>\n",
       "      <td>False</td>\n",
       "      <td>False</td>\n",
       "      <td>False</td>\n",
       "      <td>False</td>\n",
       "      <td>False</td>\n",
       "      <td>False</td>\n",
       "      <td>False</td>\n",
       "    </tr>\n",
       "    <tr>\n",
       "      <th>4</th>\n",
       "      <td>164</td>\n",
       "      <td>31.551670</td>\n",
       "      <td>357808</td>\n",
       "      <td>2011-01-31</td>\n",
       "      <td>476.609983</td>\n",
       "      <td>1128.439861</td>\n",
       "      <td>0</td>\n",
       "      <td>474758</td>\n",
       "      <td>44203.686545</td>\n",
       "      <td>-55884.031256</td>\n",
       "      <td>...</td>\n",
       "      <td>False</td>\n",
       "      <td>False</td>\n",
       "      <td>False</td>\n",
       "      <td>False</td>\n",
       "      <td>False</td>\n",
       "      <td>False</td>\n",
       "      <td>False</td>\n",
       "      <td>False</td>\n",
       "      <td>False</td>\n",
       "      <td>False</td>\n",
       "    </tr>\n",
       "  </tbody>\n",
       "</table>\n",
       "<p>5 rows × 144 columns</p>\n",
       "</div>"
      ]
     },
     "execution_count": 732,
     "metadata": {},
     "output_type": "execute_result"
    }
   ],
   "execution_count": 732
  },
  {
   "metadata": {
    "ExecuteTime": {
     "end_time": "2024-12-17T02:00:24.727759Z",
     "start_time": "2024-12-17T02:00:24.723851Z"
    }
   },
   "cell_type": "code",
   "source": [
    "from sklearn.ensemble import RandomForestClassifier\n",
    "from sklearn.metrics import confusion_matrix, classification_report, roc_auc_score\n",
    "import joblib\n",
    "import numpy as np\n",
    "import matplotlib.pyplot as plt"
   ],
   "id": "5f4c9dd33ea6cb2",
   "outputs": [],
   "execution_count": 733
  },
  {
   "metadata": {
    "ExecuteTime": {
     "end_time": "2024-12-17T02:00:24.828693Z",
     "start_time": "2024-12-17T02:00:24.825328Z"
    }
   },
   "cell_type": "code",
   "source": [
    "import pandas as pd\n",
    "import numpy as np\n",
    "from sklearn.model_selection import train_test_split\n",
    "from sklearn.ensemble import RandomForestClassifier\n",
    "from sklearn.metrics import classification_report, confusion_matrix, roc_auc_score, accuracy_score\n",
    "import joblib"
   ],
   "id": "3482289ac76209e7",
   "outputs": [],
   "execution_count": 734
  },
  {
   "metadata": {},
   "cell_type": "markdown",
   "source": "# Random Forest\n",
   "id": "a22be3b21cc057f"
  },
  {
   "metadata": {
    "ExecuteTime": {
     "end_time": "2024-12-17T02:00:24.876214Z",
     "start_time": "2024-12-17T02:00:24.872702Z"
    }
   },
   "cell_type": "code",
   "source": [
    "from sklearn.ensemble import RandomForestClassifier\n",
    "from sklearn.metrics import confusion_matrix, classification_report, roc_auc_score\n",
    "import joblib\n",
    "import numpy as np\n",
    "import matplotlib.pyplot as plt"
   ],
   "id": "f86ec5d4b69aeb86",
   "outputs": [],
   "execution_count": 735
  },
  {
   "metadata": {
    "ExecuteTime": {
     "end_time": "2024-12-17T02:00:36.012807Z",
     "start_time": "2024-12-17T02:00:25.150006Z"
    }
   },
   "cell_type": "code",
   "source": [
    "rf_model = RandomForestClassifier(random_state=42)\n",
    "rf_model.fit(X_train, y_train)\n",
    "y_pred_rf = rf_model.predict(X_test)\n",
    "rf_accuracy = accuracy_score(y_test, y_pred_rf)\n",
    "rf_auc = roc_auc_score(y_test, rf_model.predict_proba(X_test)[:, 1])"
   ],
   "id": "4d0e5ba6142227ff",
   "outputs": [],
   "execution_count": 736
  },
  {
   "metadata": {
    "ExecuteTime": {
     "end_time": "2024-12-17T02:00:36.058056Z",
     "start_time": "2024-12-17T02:00:36.031212Z"
    }
   },
   "cell_type": "code",
   "source": [
    "print(\"Confusion Matrix:\\n\", confusion_matrix(y_test, y_pred_rf))\n",
    "print(\"\\nClassification Report:\\n\", classification_report(y_test, y_pred_rf))\n",
    "print(\"\\nROC AUC Score:\", rf_auc)"
   ],
   "id": "d20fd30178fc2f5b",
   "outputs": [
    {
     "name": "stdout",
     "output_type": "stream",
     "text": [
      "Confusion Matrix:\n",
      " [[24089     0]\n",
      " [    0  5911]]\n",
      "\n",
      "Classification Report:\n",
      "               precision    recall  f1-score   support\n",
      "\n",
      "           0       1.00      1.00      1.00     24089\n",
      "           1       1.00      1.00      1.00      5911\n",
      "\n",
      "    accuracy                           1.00     30000\n",
      "   macro avg       1.00      1.00      1.00     30000\n",
      "weighted avg       1.00      1.00      1.00     30000\n",
      "\n",
      "\n",
      "ROC AUC Score: 1.0\n"
     ]
    }
   ],
   "execution_count": 737
  },
  {
   "metadata": {
    "ExecuteTime": {
     "end_time": "2024-12-17T02:00:36.148406Z",
     "start_time": "2024-12-17T02:00:36.132903Z"
    }
   },
   "cell_type": "code",
   "source": [
    "importances = rf_model.feature_importances_\n",
    "indices = np.argsort(importances)[::-1]\n",
    "print(\"\\nTop 10 Important Features:\")\n",
    "for i in range(min(10, len(indices))):\n",
    "    print(f\"Feature {indices[i]}: Importance {importances[indices[i]]:.4f}\")"
   ],
   "id": "3916b8d7ebeeaedf",
   "outputs": [
    {
     "name": "stdout",
     "output_type": "stream",
     "text": [
      "\n",
      "Top 10 Important Features:\n",
      "Feature 70: Importance 0.0638\n",
      "Feature 71: Importance 0.0582\n",
      "Feature 47: Importance 0.0565\n",
      "Feature 5: Importance 0.0392\n",
      "Feature 2: Importance 0.0384\n",
      "Feature 17: Importance 0.0333\n",
      "Feature 0: Importance 0.0322\n",
      "Feature 48: Importance 0.0317\n",
      "Feature 4: Importance 0.0295\n",
      "Feature 1: Importance 0.0278\n"
     ]
    }
   ],
   "execution_count": 738
  },
  {
   "metadata": {
    "ExecuteTime": {
     "end_time": "2024-12-17T02:00:37.277787Z",
     "start_time": "2024-12-17T02:00:37.242860Z"
    }
   },
   "cell_type": "code",
   "source": [
    "joblib.dump(rf_model, \"rf_model.pkl\")\n",
    "print(\"Random Forest model saved as rf_model.pkl\")"
   ],
   "id": "4c9f4df6a7419247",
   "outputs": [
    {
     "name": "stdout",
     "output_type": "stream",
     "text": [
      "Random Forest model saved as rf_model.pkl\n"
     ]
    }
   ],
   "execution_count": 739
  },
  {
   "metadata": {
    "ExecuteTime": {
     "end_time": "2024-12-17T02:00:37.402438Z",
     "start_time": "2024-12-17T02:00:37.342139Z"
    }
   },
   "cell_type": "code",
   "source": [
    "sample_rf = X_test.iloc[:1]\n",
    "loaded_rf = joblib.load(\"rf_model.pkl\")\n",
    "pred_rf = loaded_rf.predict(sample_rf)\n",
    "print(f\"Random Forest Sample Prediction: {'Fraud' if pred_rf[0] == 1 else 'Not Fraud'}\")"
   ],
   "id": "9641afa62f46cde3",
   "outputs": [
    {
     "name": "stdout",
     "output_type": "stream",
     "text": [
      "Random Forest Sample Prediction: Not Fraud\n"
     ]
    }
   ],
   "execution_count": 740
  },
  {
   "metadata": {},
   "cell_type": "markdown",
   "source": "# Logistic Regression",
   "id": "29051215e36afddf"
  },
  {
   "metadata": {
    "ExecuteTime": {
     "end_time": "2024-12-17T02:00:37.409601Z",
     "start_time": "2024-12-17T02:00:37.406444Z"
    }
   },
   "cell_type": "code",
   "source": [
    "from sklearn.linear_model import LogisticRegression\n",
    "from sklearn.preprocessing import StandardScaler"
   ],
   "id": "739c447938ec8750",
   "outputs": [],
   "execution_count": 741
  },
  {
   "metadata": {
    "ExecuteTime": {
     "end_time": "2024-12-17T02:00:37.927005Z",
     "start_time": "2024-12-17T02:00:37.472771Z"
    }
   },
   "cell_type": "code",
   "source": [
    "scaler = StandardScaler()\n",
    "X_train_scaled = scaler.fit_transform(X_train)\n",
    "X_test_scaled = scaler.transform(X_test)"
   ],
   "id": "ea998faccdf264e7",
   "outputs": [],
   "execution_count": 742
  },
  {
   "metadata": {
    "ExecuteTime": {
     "end_time": "2024-12-17T02:00:38.378575Z",
     "start_time": "2024-12-17T02:00:38.049187Z"
    }
   },
   "cell_type": "code",
   "source": [
    "log_model = LogisticRegression(max_iter=1000, random_state=42)\n",
    "log_model.fit(X_train_scaled, y_train)\n",
    "y_pred_log = log_model.predict(X_test_scaled)\n",
    "log_accuracy = accuracy_score(y_test, y_pred_log)\n",
    "log_auc = roc_auc_score(y_test, log_model.predict_proba(X_test_scaled)[:, 1])\n"
   ],
   "id": "9f3ea68b470beb90",
   "outputs": [],
   "execution_count": 743
  },
  {
   "metadata": {
    "ExecuteTime": {
     "end_time": "2024-12-17T02:00:38.445627Z",
     "start_time": "2024-12-17T02:00:38.438615Z"
    }
   },
   "cell_type": "code",
   "source": "y_pred_log = log_model.predict(X_test_scaled)",
   "id": "d9a8deeecbd5f1b4",
   "outputs": [],
   "execution_count": 744
  },
  {
   "metadata": {
    "ExecuteTime": {
     "end_time": "2024-12-17T02:00:38.527640Z",
     "start_time": "2024-12-17T02:00:38.503694Z"
    }
   },
   "cell_type": "code",
   "source": [
    "print(\"Logistic Regression Results\")\n",
    "print(\"Accuracy:\", accuracy_score(y_test, y_pred_log))\n",
    "print(\"Classification Report:\\n\", classification_report(y_test, y_pred_log))\n",
    "print(\"ROC AUC Score:\", roc_auc_score(y_test, log_model.predict_proba(X_test_scaled)[:, 1]))"
   ],
   "id": "ff4580697307edf5",
   "outputs": [
    {
     "name": "stdout",
     "output_type": "stream",
     "text": [
      "Logistic Regression Results\n",
      "Accuracy: 0.9053\n",
      "Classification Report:\n",
      "               precision    recall  f1-score   support\n",
      "\n",
      "           0       0.93      0.96      0.94     24089\n",
      "           1       0.80      0.69      0.74      5911\n",
      "\n",
      "    accuracy                           0.91     30000\n",
      "   macro avg       0.86      0.83      0.84     30000\n",
      "weighted avg       0.90      0.91      0.90     30000\n",
      "\n",
      "ROC AUC Score: 0.9352619012171488\n"
     ]
    }
   ],
   "execution_count": 745
  },
  {
   "metadata": {
    "ExecuteTime": {
     "end_time": "2024-12-17T02:00:38.656597Z",
     "start_time": "2024-12-17T02:00:38.651597Z"
    }
   },
   "cell_type": "code",
   "source": [
    "joblib.dump(log_model, \"logistic_model.pkl\")\n",
    "print(\"Logistic Regression model saved as logistic_model.pkl\")"
   ],
   "id": "34f550229288918b",
   "outputs": [
    {
     "name": "stdout",
     "output_type": "stream",
     "text": [
      "Logistic Regression model saved as logistic_model.pkl\n"
     ]
    }
   ],
   "execution_count": 746
  },
  {
   "metadata": {
    "ExecuteTime": {
     "end_time": "2024-12-17T02:00:38.678829Z",
     "start_time": "2024-12-17T02:00:38.661819Z"
    }
   },
   "cell_type": "code",
   "source": [
    "sample_log = X_test_scaled[:1]\n",
    "loaded_log = joblib.load(\"logistic_model.pkl\")\n",
    "pred_log = loaded_log.predict(sample_log)\n",
    "print(f\"Logistic Regression Sample Prediction: {'Fraud' if pred_log[0] == 1 else 'Not Fraud'}\")"
   ],
   "id": "769bc566fc3a61c1",
   "outputs": [
    {
     "name": "stdout",
     "output_type": "stream",
     "text": [
      "Logistic Regression Sample Prediction: Fraud\n"
     ]
    }
   ],
   "execution_count": 747
  },
  {
   "metadata": {},
   "cell_type": "markdown",
   "source": "# XGBoost",
   "id": "a273541e1069902e"
  },
  {
   "metadata": {
    "ExecuteTime": {
     "end_time": "2024-12-17T02:00:38.743014Z",
     "start_time": "2024-12-17T02:00:38.740049Z"
    }
   },
   "cell_type": "code",
   "source": "from xgboost import XGBClassifier",
   "id": "e1db342265a72e2c",
   "outputs": [],
   "execution_count": 748
  },
  {
   "metadata": {
    "ExecuteTime": {
     "end_time": "2024-12-17T02:00:39.669206Z",
     "start_time": "2024-12-17T02:00:38.881177Z"
    }
   },
   "cell_type": "code",
   "source": [
    "xgb = XGBClassifier(eval_metric=\"logloss\", scale_pos_weight=3)\n",
    "xgb.fit(X_train, y_train)\n",
    "y_pred_xgb = xgb.predict(X_test)\n",
    "xgb_accuracy = accuracy_score(y_test, y_pred_xgb)\n",
    "xgb_auc = roc_auc_score(y_test, xgb.predict_proba(X_test)[:, 1])"
   ],
   "id": "a084397cdefa21c",
   "outputs": [],
   "execution_count": 749
  },
  {
   "metadata": {
    "ExecuteTime": {
     "end_time": "2024-12-17T02:00:39.732986Z",
     "start_time": "2024-12-17T02:00:39.674213Z"
    }
   },
   "cell_type": "code",
   "source": "y_pred_xgb = xgb.predict(X_test)",
   "id": "60765c6c481b47c0",
   "outputs": [],
   "execution_count": 750
  },
  {
   "metadata": {
    "ExecuteTime": {
     "end_time": "2024-12-17T02:00:39.848874Z",
     "start_time": "2024-12-17T02:00:39.836609Z"
    }
   },
   "cell_type": "code",
   "source": [
    "print(\"--- XGBoost Results ---\")\n",
    "print(f\"Accuracy: {xgb_accuracy}\")\n",
    "print(f\"Classification Report:\\n{classification_report(y_test, y_pred_xgb)}\")\n",
    "print(\"ROC AUC Score:\", xgb_auc)"
   ],
   "id": "bb6efdab7561b6dc",
   "outputs": [
    {
     "name": "stdout",
     "output_type": "stream",
     "text": [
      "--- XGBoost Results ---\n",
      "Accuracy: 1.0\n",
      "Classification Report:\n",
      "              precision    recall  f1-score   support\n",
      "\n",
      "           0       1.00      1.00      1.00     24089\n",
      "           1       1.00      1.00      1.00      5911\n",
      "\n",
      "    accuracy                           1.00     30000\n",
      "   macro avg       1.00      1.00      1.00     30000\n",
      "weighted avg       1.00      1.00      1.00     30000\n",
      "\n",
      "ROC AUC Score: 1.0\n"
     ]
    }
   ],
   "execution_count": 751
  },
  {
   "metadata": {
    "ExecuteTime": {
     "end_time": "2024-12-17T02:00:39.922885Z",
     "start_time": "2024-12-17T02:00:39.913124Z"
    }
   },
   "cell_type": "code",
   "source": [
    "joblib.dump(xgb, \"xgb_model.pkl\")\n",
    "print(\"XGBoost model saved as xgb_model.pkl\")"
   ],
   "id": "7213418d4446f0e5",
   "outputs": [
    {
     "name": "stdout",
     "output_type": "stream",
     "text": [
      "XGBoost model saved as xgb_model.pkl\n"
     ]
    }
   ],
   "execution_count": 752
  },
  {
   "metadata": {
    "ExecuteTime": {
     "end_time": "2024-12-17T02:00:40.047775Z",
     "start_time": "2024-12-17T02:00:39.989773Z"
    }
   },
   "cell_type": "code",
   "source": [
    "sample_xgb = X_test.iloc[:1]\n",
    "loaded_xgb = joblib.load(\"xgb_model.pkl\")\n",
    "pred_xgb = loaded_xgb.predict(sample_xgb)\n",
    "print(f\"XGBoost Sample Prediction: {'Fraud' if pred_xgb[0] == 1 else 'Not Fraud'}\")\n"
   ],
   "id": "7bf13fc8f415f867",
   "outputs": [
    {
     "name": "stdout",
     "output_type": "stream",
     "text": [
      "XGBoost Sample Prediction: Not Fraud\n"
     ]
    }
   ],
   "execution_count": 753
  },
  {
   "metadata": {},
   "cell_type": "markdown",
   "source": "# Naive Bayes",
   "id": "ef2212fc68ae5b9c"
  },
  {
   "metadata": {
    "ExecuteTime": {
     "end_time": "2024-12-17T02:00:40.163626Z",
     "start_time": "2024-12-17T02:00:40.161141Z"
    }
   },
   "cell_type": "code",
   "source": "from sklearn.naive_bayes import GaussianNB",
   "id": "466122ab450d987f",
   "outputs": [],
   "execution_count": 754
  },
  {
   "metadata": {
    "ExecuteTime": {
     "end_time": "2024-12-17T02:00:40.664472Z",
     "start_time": "2024-12-17T02:00:40.229961Z"
    }
   },
   "cell_type": "code",
   "source": [
    "nb = GaussianNB()\n",
    "nb.fit(X_train, y_train)\n",
    "y_pred_nb = nb.predict(X_test)\n",
    "nb_accuracy = accuracy_score(y_test, y_pred_nb)\n",
    "nb_auc = roc_auc_score(y_test, nb.predict_proba(X_test)[:, 1])"
   ],
   "id": "7b075f60a9351daf",
   "outputs": [],
   "execution_count": 755
  },
  {
   "metadata": {
    "ExecuteTime": {
     "end_time": "2024-12-17T02:00:40.862516Z",
     "start_time": "2024-12-17T02:00:40.787751Z"
    }
   },
   "cell_type": "code",
   "source": "y_pred_nb = nb.predict(X_test)",
   "id": "b88f19a370c2bccd",
   "outputs": [],
   "execution_count": 756
  },
  {
   "metadata": {
    "ExecuteTime": {
     "end_time": "2024-12-17T02:00:40.878834Z",
     "start_time": "2024-12-17T02:00:40.867522Z"
    }
   },
   "cell_type": "code",
   "source": [
    "print(\"Results: Naive Bayes\")\n",
    "print(\"Accuracy: \", nb_accuracy)\n",
    "print(\"Classification Report:\\n\", classification_report(y_test, y_pred_nb))\n",
    "print(\"ROC AUC Score:\", nb_auc)"
   ],
   "id": "d23d9f24412075fc",
   "outputs": [
    {
     "name": "stdout",
     "output_type": "stream",
     "text": [
      "Results: Naive Bayes\n",
      "Accuracy:  0.7289666666666667\n",
      "Classification Report:\n",
      "               precision    recall  f1-score   support\n",
      "\n",
      "           0       0.81      0.86      0.84     24089\n",
      "           1       0.24      0.18      0.21      5911\n",
      "\n",
      "    accuracy                           0.73     30000\n",
      "   macro avg       0.53      0.52      0.52     30000\n",
      "weighted avg       0.70      0.73      0.71     30000\n",
      "\n",
      "ROC AUC Score: 0.6013094634212544\n"
     ]
    }
   ],
   "execution_count": 757
  },
  {
   "metadata": {
    "ExecuteTime": {
     "end_time": "2024-12-17T02:00:40.950454Z",
     "start_time": "2024-12-17T02:00:40.945312Z"
    }
   },
   "cell_type": "code",
   "source": [
    "joblib.dump(nb, \"naive_bayes_model.pkl\")\n",
    "print(\"Naive Bayes model saved as naive_bayes_model.pkl\")"
   ],
   "id": "8d45548d43f4643f",
   "outputs": [
    {
     "name": "stdout",
     "output_type": "stream",
     "text": [
      "Naive Bayes model saved as naive_bayes_model.pkl\n"
     ]
    }
   ],
   "execution_count": 758
  },
  {
   "metadata": {
    "ExecuteTime": {
     "end_time": "2024-12-17T02:00:41.027887Z",
     "start_time": "2024-12-17T02:00:41.012813Z"
    }
   },
   "cell_type": "code",
   "source": [
    "sample_nb = X_test.iloc[:1]\n",
    "loaded_nb = joblib.load(\"naive_bayes_model.pkl\")\n",
    "pred_nb = loaded_nb.predict(sample_nb)\n",
    "print(f\"Naive Bayes Sample Prediction: {'Fraud' if pred_nb[0] == 1 else 'Not Fraud'}\")\n"
   ],
   "id": "3cd185367b4481eb",
   "outputs": [
    {
     "name": "stdout",
     "output_type": "stream",
     "text": [
      "Naive Bayes Sample Prediction: Not Fraud\n"
     ]
    }
   ],
   "execution_count": 759
  },
  {
   "metadata": {},
   "cell_type": "markdown",
   "source": "# KNN Classifier",
   "id": "4b1b26aeeb71d952"
  },
  {
   "metadata": {
    "ExecuteTime": {
     "end_time": "2024-12-17T02:00:41.092778Z",
     "start_time": "2024-12-17T02:00:41.089494Z"
    }
   },
   "cell_type": "code",
   "source": "from sklearn.neighbors import KNeighborsClassifier\n",
   "id": "664b41c474511e28",
   "outputs": [],
   "execution_count": 760
  },
  {
   "metadata": {
    "ExecuteTime": {
     "end_time": "2024-12-17T02:00:46.705131Z",
     "start_time": "2024-12-17T02:00:41.225077Z"
    }
   },
   "cell_type": "code",
   "source": [
    "knn = KNeighborsClassifier(n_neighbors=5)\n",
    "knn.fit(X_train_scaled, y_train)\n",
    "y_pred_knn = knn.predict(X_test_scaled)\n",
    "knn_accuracy = accuracy_score(y_test, y_pred_knn)\n",
    "knn_auc = roc_auc_score(y_test, knn.predict_proba(X_test_scaled)[:, 1])"
   ],
   "id": "45a42c0ecc3830d8",
   "outputs": [],
   "execution_count": 761
  },
  {
   "metadata": {
    "ExecuteTime": {
     "end_time": "2024-12-17T02:00:49.630450Z",
     "start_time": "2024-12-17T02:00:46.771278Z"
    }
   },
   "cell_type": "code",
   "source": "y_pred_knn = knn.predict(X_test_scaled)",
   "id": "94c2518eaf681344",
   "outputs": [],
   "execution_count": 762
  },
  {
   "metadata": {
    "ExecuteTime": {
     "end_time": "2024-12-17T02:00:49.637894Z",
     "start_time": "2024-12-17T02:00:49.634460Z"
    }
   },
   "cell_type": "code",
   "source": [
    "print(\"KNN Classification\")\n",
    "print(f\"Accuracy Score: {knn_accuracy}\")\n",
    "print(\"Classification Report:\\n{classification_report(y_test, y_pred_knn)}\")\n",
    "print(\"ROC AUC Score:\", knn_auc)"
   ],
   "id": "23f956fa02a7ab94",
   "outputs": [
    {
     "name": "stdout",
     "output_type": "stream",
     "text": [
      "KNN Classification\n",
      "Accuracy Score: 1.0\n",
      "Classification Report:\n",
      "{classification_report(y_test, y_pred_knn)}\n",
      "ROC AUC Score: 1.0\n"
     ]
    }
   ],
   "execution_count": 763
  },
  {
   "metadata": {
    "ExecuteTime": {
     "end_time": "2024-12-17T02:00:49.848563Z",
     "start_time": "2024-12-17T02:00:49.805195Z"
    }
   },
   "cell_type": "code",
   "source": [
    "joblib.dump(knn, \"knn_model.pkl\")\n",
    "print(\"K-Nearest Neighbors model saved as knn_model.pkl\")"
   ],
   "id": "e108fbfdb17ae3a0",
   "outputs": [
    {
     "name": "stdout",
     "output_type": "stream",
     "text": [
      "K-Nearest Neighbors model saved as knn_model.pkl\n"
     ]
    }
   ],
   "execution_count": 764
  },
  {
   "metadata": {
    "ExecuteTime": {
     "end_time": "2024-12-17T02:00:49.909357Z",
     "start_time": "2024-12-17T02:00:49.855579Z"
    }
   },
   "cell_type": "code",
   "source": [
    "sample_knn = X_test_scaled[:1]\n",
    "loaded_knn = joblib.load(\"knn_model.pkl\")\n",
    "pred_knn = loaded_knn.predict(sample_knn)\n",
    "print(f\"KNN Sample Prediction: {'Fraud' if pred_knn[0] == 1 else 'Not Fraud'}\")"
   ],
   "id": "fd6fbf6e9a3d2989",
   "outputs": [
    {
     "name": "stdout",
     "output_type": "stream",
     "text": [
      "KNN Sample Prediction: Not Fraud\n"
     ]
    }
   ],
   "execution_count": 765
  },
  {
   "metadata": {},
   "cell_type": "markdown",
   "source": "# Visualization",
   "id": "b92f70486ba80ad4"
  },
  {
   "metadata": {
    "ExecuteTime": {
     "end_time": "2024-12-17T02:00:49.973786Z",
     "start_time": "2024-12-17T02:00:49.970625Z"
    }
   },
   "cell_type": "code",
   "source": [
    "models = ['Random Forest', 'Logistic Regression', 'XGBoost', 'Naive Bayes', 'KNN']\n",
    "accuracies = [rf_accuracy, log_accuracy, xgb_accuracy, nb_accuracy, knn_accuracy]\n",
    "aucs = [rf_auc, log_auc, xgb_auc, nb_auc, knn_auc]"
   ],
   "id": "53c327de243cbf2",
   "outputs": [],
   "execution_count": 766
  },
  {
   "metadata": {
    "ExecuteTime": {
     "end_time": "2024-12-17T02:00:50.049062Z",
     "start_time": "2024-12-17T02:00:50.035820Z"
    }
   },
   "cell_type": "code",
   "source": "plt.figure(figsize=(10, 6))",
   "id": "c2bee0acb76080a8",
   "outputs": [
    {
     "data": {
      "text/plain": [
       "<Figure size 1000x600 with 0 Axes>"
      ]
     },
     "execution_count": 767,
     "metadata": {},
     "output_type": "execute_result"
    },
    {
     "data": {
      "text/plain": [
       "<Figure size 1000x600 with 0 Axes>"
      ]
     },
     "metadata": {},
     "output_type": "display_data"
    }
   ],
   "execution_count": 767
  },
  {
   "metadata": {
    "ExecuteTime": {
     "end_time": "2024-12-17T02:00:53.913297Z",
     "start_time": "2024-12-17T02:00:50.113123Z"
    }
   },
   "cell_type": "code",
   "source": [
    "from sklearn.metrics import precision_score, recall_score, f1_score\n",
    "\n",
    "# Creating emty list to store the differnet metrics\n",
    "precisions = []\n",
    "recalls = []\n",
    "f1_scores = []\n",
    "\n",
    "# Evaluate each model on Precision, Recall, and F1-score\n",
    "# Random Forest\n",
    "y_pred_rf = rf_model.predict(X_test)\n",
    "precisions.append(precision_score(y_test, y_pred_rf))\n",
    "recalls.append(recall_score(y_test, y_pred_rf))\n",
    "f1_scores.append(f1_score(y_test, y_pred_rf))\n",
    "\n",
    "# Logistic Regression\n",
    "y_pred_log = log_model.predict(X_test_scaled)\n",
    "precisions.append(precision_score(y_test, y_pred_log))\n",
    "recalls.append(recall_score(y_test, y_pred_log))\n",
    "f1_scores.append(f1_score(y_test, y_pred_log))\n",
    "\n",
    "# XGBoost\n",
    "y_pred_xgb = xgb.predict(X_test)\n",
    "precisions.append(precision_score(y_test, y_pred_xgb))\n",
    "recalls.append(recall_score(y_test, y_pred_xgb))\n",
    "f1_scores.append(f1_score(y_test, y_pred_xgb))\n",
    "\n",
    "# Naive Bayes\n",
    "y_pred_nb = nb.predict(X_test)\n",
    "precisions.append(precision_score(y_test, y_pred_nb))\n",
    "recalls.append(recall_score(y_test, y_pred_nb))\n",
    "f1_scores.append(f1_score(y_test, y_pred_nb))\n",
    "\n",
    "# KNN\n",
    "y_pred_knn = knn.predict(X_test_scaled)\n",
    "precisions.append(precision_score(y_test, y_pred_knn))\n",
    "recalls.append(recall_score(y_test, y_pred_knn))\n",
    "f1_scores.append(f1_score(y_test, y_pred_knn))\n",
    "\n",
    "# Create a matrix of metrics\n",
    "metrics = np.array([precisions, recalls, f1_scores]).T\n",
    "metric_labels = ['Precision', 'Recall', 'F1-score']\n",
    "\n",
    "# Plot the heatmap\n",
    "plt.figure(figsize=(8, 6))\n",
    "sns.heatmap(metrics, annot=True, fmt=\".4f\", cmap=\"coolwarm\", xticklabels=metric_labels, yticklabels=models, cbar_kws={'label': 'Metric Value'})\n",
    "plt.title(\"Model Performance Metrics\")\n",
    "plt.xlabel(\"Metrics\")\n",
    "plt.ylabel(\"Models\")\n",
    "plt.show()\n"
   ],
   "id": "8cf554d048174331",
   "outputs": [
    {
     "data": {
      "text/plain": [
       "<Figure size 800x600 with 2 Axes>"
      ],
      "image/png": "[encoded data removed]"
     },
     "metadata": {},
     "output_type": "display_data"
    }
   ],
   "execution_count": 768
  },
  {
   "metadata": {
    "ExecuteTime": {
     "end_time": "2024-12-17T02:00:54.018614Z",
     "start_time": "2024-12-17T02:00:54.015178Z"
    }
   },
   "cell_type": "code",
   "source": [
    "best_model_index = np.argmax(aucs)\n",
    "best_model = models[best_model_index]\n",
    "print(f\"The best model for fraud detection is: {best_model} with an AUC of {aucs[best_model_index]:.4f}\")\n"
   ],
   "id": "d903d64b75428d0a",
   "outputs": [
    {
     "name": "stdout",
     "output_type": "stream",
     "text": [
      "The best model for fraud detection is: Random Forest with an AUC of 1.0000\n"
     ]
    }
   ],
   "execution_count": 769
  },
  {
   "metadata": {
    "ExecuteTime": {
     "end_time": "2024-12-17T02:00:54.152217Z",
     "start_time": "2024-12-17T02:00:54.146212Z"
    }
   },
   "cell_type": "code",
   "source": "\n",
   "id": "d609675a24dc9f4c",
   "outputs": [],
   "execution_count": 769
  }
 ],
 "metadata": {
  "kernelspec": {
   "display_name": "Python 3",
   "language": "python",
   "name": "python3"
  },
  "language_info": {
   "codemirror_mode": {
    "name": "ipython",
    "version": 2
   },
   "file_extension": ".py",
   "mimetype": "text/x-python",
   "name": "python",
   "nbconvert_exporter": "python",
   "pygments_lexer": "ipython2",
   "version": "2.7.6"
  }
 },
 "nbformat": 4,
 "nbformat_minor": 5
}
